{
 "cells": [
  {
   "cell_type": "code",
   "execution_count": 36,
   "metadata": {},
   "outputs": [],
   "source": [
    "from tensorflow import keras\n",
    "import numpy as np\n",
    "import matplotlib.pyplot as plt\n",
    "(x_train, y_train), (x_test, y_test) = tf.keras.datasets.mnist.load_data()"
   ]
  },
  {
   "cell_type": "code",
   "execution_count": 37,
   "metadata": {},
   "outputs": [],
   "source": [
    "model = keras.Sequential() \n",
    "model.add(keras.layers.Dense(256, input_shape=(784,))) \n",
    "model.add(keras.layers.Dense(10, activation='softmax'))"
   ]
  },
  {
   "cell_type": "code",
   "execution_count": 38,
   "metadata": {},
   "outputs": [],
   "source": [
    "x_train = np.reshape(x_train, (60000, 784))/255\n",
    "x_test = np.reshape(x_test, (10000, 784))/255\n",
    "from tensorflow.keras.utils import to_categorical\n",
    "y_train = keras.utils.to_categorical(y_train, 10)"
   ]
  },
  {
   "cell_type": "code",
   "execution_count": 39,
   "metadata": {},
   "outputs": [],
   "source": [
    "model = keras.Sequential() \n",
    "model.add(keras.layers.Dense(256, input_shape=(784,))) \n",
    "model.add(keras.layers.Dense(10, activation='softmax'))\n",
    "\n",
    "model.compile(loss='categorical_crossentropy', optimizer=keras.optimizers.RMSprop(), metrics='accuracy')"
   ]
  },
  {
   "cell_type": "code",
   "execution_count": 40,
   "metadata": {},
   "outputs": [
    {
     "name": "stdout",
     "output_type": "stream",
     "text": [
      "Epoch 1/12\n",
      "375/375 [==============================] - 2s 5ms/step - loss: 0.4001 - accuracy: 0.8852 - val_loss: 0.2969 - val_accuracy: 0.9178\n",
      "Epoch 2/12\n",
      "375/375 [==============================] - 2s 4ms/step - loss: 0.3081 - accuracy: 0.9128 - val_loss: 0.2895 - val_accuracy: 0.9216\n",
      "Epoch 3/12\n",
      "375/375 [==============================] - 2s 4ms/step - loss: 0.2945 - accuracy: 0.9169 - val_loss: 0.3013 - val_accuracy: 0.9172\n",
      "Epoch 4/12\n",
      "375/375 [==============================] - 2s 4ms/step - loss: 0.2874 - accuracy: 0.9194 - val_loss: 0.2843 - val_accuracy: 0.9206\n",
      "Epoch 5/12\n",
      "375/375 [==============================] - 1s 4ms/step - loss: 0.2818 - accuracy: 0.9215 - val_loss: 0.2844 - val_accuracy: 0.9231\n",
      "Epoch 6/12\n",
      "375/375 [==============================] - 1s 4ms/step - loss: 0.2776 - accuracy: 0.9228 - val_loss: 0.2840 - val_accuracy: 0.9212\n",
      "Epoch 7/12\n",
      "375/375 [==============================] - 1s 4ms/step - loss: 0.2745 - accuracy: 0.9234 - val_loss: 0.2801 - val_accuracy: 0.9242\n",
      "Epoch 8/12\n",
      "375/375 [==============================] - 1s 4ms/step - loss: 0.2713 - accuracy: 0.9251 - val_loss: 0.2813 - val_accuracy: 0.9242\n",
      "Epoch 9/12\n",
      "375/375 [==============================] - 1s 4ms/step - loss: 0.2687 - accuracy: 0.9257 - val_loss: 0.2747 - val_accuracy: 0.9263\n",
      "Epoch 10/12\n",
      "375/375 [==============================] - 1s 4ms/step - loss: 0.2675 - accuracy: 0.9252 - val_loss: 0.2739 - val_accuracy: 0.9273\n",
      "Epoch 11/12\n",
      "375/375 [==============================] - 1s 4ms/step - loss: 0.2649 - accuracy: 0.9253 - val_loss: 0.2979 - val_accuracy: 0.9197\n",
      "Epoch 12/12\n",
      "375/375 [==============================] - 1s 4ms/step - loss: 0.2634 - accuracy: 0.9263 - val_loss: 0.2792 - val_accuracy: 0.9253\n"
     ]
    }
   ],
   "source": [
    "history = model.fit(x_train, y_train, batch_size=128, epochs=12, verbose=1, validation_split=0.2)"
   ]
  },
  {
   "cell_type": "code",
   "execution_count": 44,
   "metadata": {},
   "outputs": [
    {
     "data": {
      "text/plain": [
       "[<matplotlib.lines.Line2D at 0x7fa8dfe45ca0>]"
      ]
     },
     "execution_count": 44,
     "metadata": {},
     "output_type": "execute_result"
    },
    {
     "data": {
      "image/png": "[encoded data removed]",
      "text/plain": [
       "<Figure size 432x288 with 1 Axes>"
      ]
     },
     "metadata": {
      "needs_background": "light"
     },
     "output_type": "display_data"
    }
   ],
   "source": [
    "plt.plot(history.history['loss'])"
   ]
  },
  {
   "cell_type": "code",
   "execution_count": 46,
   "metadata": {},
   "outputs": [],
   "source": [
    "y_test = keras.utils.to_categorical(y_test, 10)\n",
    "loss, accuracy = model.evaluate(x_test, y_test, verbose=0)"
   ]
  },
  {
   "cell_type": "code",
   "execution_count": null,
   "metadata": {},
   "outputs": [],
   "source": []
  }
 ],
 "metadata": {
  "kernelspec": {
   "display_name": "Python 3",
   "language": "python",
   "name": "python3"
  },
  "language_info": {
   "codemirror_mode": {
    "name": "ipython",
    "version": 3
   },
   "file_extension": ".py",
   "mimetype": "text/x-python",
   "name": "python",
   "nbconvert_exporter": "python",
   "pygments_lexer": "ipython3",
   "version": "3.8.5"
  }
 },
 "nbformat": 4,
 "nbformat_minor": 4
}
